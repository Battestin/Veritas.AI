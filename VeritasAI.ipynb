{
  "nbformat": 4,
  "nbformat_minor": 0,
  "metadata": {
    "colab": {
      "provenance": [],
      "authorship_tag": "ABX9TyNbIpOYf0Xv9dD4vZ0h1fGH",
      "include_colab_link": true
    },
    "kernelspec": {
      "name": "python3",
      "display_name": "Python 3"
    },
    "language_info": {
      "name": "python"
    }
  },
  "cells": [
    {
      "cell_type": "markdown",
      "metadata": {
        "id": "view-in-github",
        "colab_type": "text"
      },
      "source": [
        "<a href=\"https://colab.research.google.com/github/Battestin/Veritas.AI/blob/main/VeritasAI.ipynb\" target=\"_parent\"><img src=\"https://colab.research.google.com/assets/colab-badge.svg\" alt=\"Open In Colab\"/></a>"
      ]
    },
    {
      "cell_type": "code",
      "execution_count": 7,
      "metadata": {
        "id": "CIMeatZI6dkP"
      },
      "outputs": [],
      "source": [
        "!pip -q install google-genai\n",
        "\n",
        "# Configura a API Key do Google Gemini\n",
        "\n",
        "import os\n",
        "from google.colab import userdata\n",
        "\n",
        "os.environ[\"GOOGLE_API_KEY\"] = userdata.get('GOOGLE_API_KEY')"
      ]
    },
    {
      "cell_type": "code",
      "source": [
        "# Instalar Framework de agentes do Google ################################################\n",
        "!pip install -q google-adk\n",
        "\n",
        "from google.adk.agents import Agent\n",
        "from google.adk.runners import Runner\n",
        "from google.adk.sessions import InMemorySessionService\n",
        "from google.adk.tools import google_search\n",
        "from google.genai import types  # Para criar conteúdos (Content e Part)\n",
        "from datetime import date\n",
        "import textwrap # Para formatar melhor a saída de texto\n",
        "from IPython.display import display, Markdown # Para exibir texto formatado no Colab\n",
        "import requests # Para fazer requisições HTTP\n",
        "import warnings\n",
        "\n",
        "warnings.filterwarnings(\"ignore\")\n",
        "\n",
        "# Função auxiliar que envia uma mensagem para um agente via Runner e retorna a resposta final\n",
        "def call_agent(agent: Agent, message_text: str) -> str:\n",
        "    # Cria um serviço de sessão em memória\n",
        "    session_service = InMemorySessionService()\n",
        "    # Cria uma nova sessão (você pode personalizar os IDs conforme necessário)\n",
        "    session = session_service.create_session(app_name=agent.name, user_id=\"user1\", session_id=\"session1\")\n",
        "    # Cria um Runner para o agente\n",
        "    runner = Runner(agent=agent, app_name=agent.name, session_service=session_service)\n",
        "    # Cria o conteúdo da mensagem de entrada\n",
        "    content = types.Content(role=\"user\", parts=[types.Part(text=message_text)])\n",
        "\n",
        "    final_response = \"\"\n",
        "    # Itera assincronamente pelos eventos retornados durante a execução do agente\n",
        "    for event in runner.run(user_id=\"user1\", session_id=\"session1\", new_message=content):\n",
        "        if event.is_final_response():\n",
        "          for part in event.content.parts:\n",
        "            if part.text is not None:\n",
        "              final_response += part.text\n",
        "              final_response += \"\\n\"\n",
        "    return final_response\n",
        "\n",
        "# Função auxiliar para exibir texto formatado em Markdown no Colab\n",
        "def to_markdown(text):\n",
        "  text = text.replace('•', '  *')\n",
        "  return Markdown(textwrap.indent(text, '> ', predicate=lambda _: True))"
      ],
      "metadata": {
        "colab": {
          "base_uri": "https://localhost:8080/"
        },
        "id": "KfGNxJJirFKK",
        "outputId": "38dbedf7-e926-44bd-8430-76e5925975d6"
      },
      "execution_count": 2,
      "outputs": [
        {
          "output_type": "stream",
          "name": "stdout",
          "text": [
            "\u001b[?25l   \u001b[90m━━━━━━━━━━━━━━━━━━━━━━━━━━━━━━━━━━━━━━━━\u001b[0m \u001b[32m0.0/1.2 MB\u001b[0m \u001b[31m?\u001b[0m eta \u001b[36m-:--:--\u001b[0m\r\u001b[2K   \u001b[91m━━━━━━━━━━━━━━━━━━━━━━━━━━━━━━━━\u001b[0m\u001b[91m╸\u001b[0m\u001b[90m━━━━━━━\u001b[0m \u001b[32m1.0/1.2 MB\u001b[0m \u001b[31m34.0 MB/s\u001b[0m eta \u001b[36m0:00:01\u001b[0m\r\u001b[2K   \u001b[90m━━━━━━━━━━━━━━━━━━━━━━━━━━━━━━━━━━━━━━━━\u001b[0m \u001b[32m1.2/1.2 MB\u001b[0m \u001b[31m24.0 MB/s\u001b[0m eta \u001b[36m0:00:00\u001b[0m\n",
            "\u001b[?25h\u001b[?25l   \u001b[90m━━━━━━━━━━━━━━━━━━━━━━━━━━━━━━━━━━━━━━━━\u001b[0m \u001b[32m0.0/232.1 kB\u001b[0m \u001b[31m?\u001b[0m eta \u001b[36m-:--:--\u001b[0m\r\u001b[2K   \u001b[90m━━━━━━━━━━━━━━━━━━━━━━━━━━━━━━━━━━━━━━━━\u001b[0m \u001b[32m232.1/232.1 kB\u001b[0m \u001b[31m16.9 MB/s\u001b[0m eta \u001b[36m0:00:00\u001b[0m\n",
            "\u001b[?25h\u001b[?25l   \u001b[90m━━━━━━━━━━━━━━━━━━━━━━━━━━━━━━━━━━━━━━━━\u001b[0m \u001b[32m0.0/95.2 kB\u001b[0m \u001b[31m?\u001b[0m eta \u001b[36m-:--:--\u001b[0m\r\u001b[2K   \u001b[90m━━━━━━━━━━━━━━━━━━━━━━━━━━━━━━━━━━━━━━━━\u001b[0m \u001b[32m95.2/95.2 kB\u001b[0m \u001b[31m8.5 MB/s\u001b[0m eta \u001b[36m0:00:00\u001b[0m\n",
            "\u001b[2K   \u001b[90m━━━━━━━━━━━━━━━━━━━━━━━━━━━━━━━━━━━━━━━━\u001b[0m \u001b[32m217.1/217.1 kB\u001b[0m \u001b[31m17.8 MB/s\u001b[0m eta \u001b[36m0:00:00\u001b[0m\n",
            "\u001b[2K   \u001b[90m━━━━━━━━━━━━━━━━━━━━━━━━━━━━━━━━━━━━━━━━\u001b[0m \u001b[32m334.1/334.1 kB\u001b[0m \u001b[31m22.6 MB/s\u001b[0m eta \u001b[36m0:00:00\u001b[0m\n",
            "\u001b[2K   \u001b[90m━━━━━━━━━━━━━━━━━━━━━━━━━━━━━━━━━━━━━━━━\u001b[0m \u001b[32m125.1/125.1 kB\u001b[0m \u001b[31m10.2 MB/s\u001b[0m eta \u001b[36m0:00:00\u001b[0m\n",
            "\u001b[2K   \u001b[90m━━━━━━━━━━━━━━━━━━━━━━━━━━━━━━━━━━━━━━━━\u001b[0m \u001b[32m65.8/65.8 kB\u001b[0m \u001b[31m5.7 MB/s\u001b[0m eta \u001b[36m0:00:00\u001b[0m\n",
            "\u001b[2K   \u001b[90m━━━━━━━━━━━━━━━━━━━━━━━━━━━━━━━━━━━━━━━━\u001b[0m \u001b[32m119.0/119.0 kB\u001b[0m \u001b[31m10.0 MB/s\u001b[0m eta \u001b[36m0:00:00\u001b[0m\n",
            "\u001b[2K   \u001b[90m━━━━━━━━━━━━━━━━━━━━━━━━━━━━━━━━━━━━━━━━\u001b[0m \u001b[32m194.9/194.9 kB\u001b[0m \u001b[31m13.1 MB/s\u001b[0m eta \u001b[36m0:00:00\u001b[0m\n",
            "\u001b[2K   \u001b[90m━━━━━━━━━━━━━━━━━━━━━━━━━━━━━━━━━━━━━━━━\u001b[0m \u001b[32m62.5/62.5 kB\u001b[0m \u001b[31m5.2 MB/s\u001b[0m eta \u001b[36m0:00:00\u001b[0m\n",
            "\u001b[2K   \u001b[90m━━━━━━━━━━━━━━━━━━━━━━━━━━━━━━━━━━━━━━━━\u001b[0m \u001b[32m103.3/103.3 kB\u001b[0m \u001b[31m9.3 MB/s\u001b[0m eta \u001b[36m0:00:00\u001b[0m\n",
            "\u001b[2K   \u001b[90m━━━━━━━━━━━━━━━━━━━━━━━━━━━━━━━━━━━━━━━━\u001b[0m \u001b[32m44.4/44.4 kB\u001b[0m \u001b[31m3.4 MB/s\u001b[0m eta \u001b[36m0:00:00\u001b[0m\n",
            "\u001b[2K   \u001b[90m━━━━━━━━━━━━━━━━━━━━━━━━━━━━━━━━━━━━━━━━\u001b[0m \u001b[32m72.0/72.0 kB\u001b[0m \u001b[31m6.7 MB/s\u001b[0m eta \u001b[36m0:00:00\u001b[0m\n",
            "\u001b[?25h"
          ]
        }
      ]
    },
    {
      "cell_type": "code",
      "source": [
        "def agente_coletor_de_evidencias(topico, data_de_hoje):\n",
        "    coletor = Agent(\n",
        "        name=\"agente_coletor_de_evidencias\",\n",
        "        model=\"gemini-2.0-flash\",\n",
        "        instruction=f\"\"\"\n",
        "        Você é um verificador de fatos que usa a ferramenta google_search para encontrar fontes confiáveis, como:\n",
        "        - Reportagens de grandes veículos jornalísticos\n",
        "        - Artigos científicos\n",
        "        - Sites de checagem de fatos (e.g., Aos Fatos, Lupa, Snopes, FactCheck.org)\n",
        "        Busque refutações ou confirmações sobre o tópico fornecido. Ignore opiniões de redes sociais ou fóruns.\n",
        "        Traga trechos relevantes e URLs de até 5 fontes distintas, priorizando atualidade (últimos 12 meses).\n",
        "        \"\"\",\n",
        "        description=\"Busca fontes confiáveis sobre um tema polêmico\",\n",
        "        tools=[google_search]\n",
        "    )\n",
        "\n",
        "    entrada = f\"Tópico: {topico}\\nData: {data_de_hoje}\"\n",
        "    evidencias = call_agent(coletor, entrada)\n",
        "    return evidencias\n"
      ],
      "metadata": {
        "id": "IHtRyDSTrH3h"
      },
      "execution_count": 3,
      "outputs": []
    },
    {
      "cell_type": "code",
      "source": [
        "def agente_avaliador_de_veracidade(topico, evidencias):\n",
        "    avaliador = Agent(\n",
        "        name=\"agente_avaliador_de_veracidade\",\n",
        "        model=\"gemini-2.5-pro-preview-03-25\",\n",
        "        instruction=f\"\"\"\n",
        "        Você é um avaliador crítico. Receberá fontes jornalísticas e científicas sobre um tópico controverso.\n",
        "        Sua função:\n",
        "        1. Verificar se o consenso das fontes aponta para verdade, falsidade, imprecisão ou incerteza.\n",
        "        2. Emitir um parecer objetivo (uma dessas 4 opções): VERDADEIRO, FALSO, IMPRECISO, NÃO CONCLUSIVO.\n",
        "        3. Justificar sua classificação com base nas evidências apresentadas.\n",
        "        Evite linguagem vaga. Seja direto e técnico.\n",
        "        \"\"\",\n",
        "        description=\"Avalia veracidade com base nas evidências.\"\n",
        "    )\n",
        "\n",
        "    entrada = f\"Tópico: {topico}\\nEvidências:\\n{evidencias}\"\n",
        "    parecer = call_agent(avaliador, entrada)\n",
        "    return parecer\n"
      ],
      "metadata": {
        "id": "Mw6h8zcqrNp_"
      },
      "execution_count": 20,
      "outputs": []
    },
    {
      "cell_type": "code",
      "source": [
        "def agente_explicador(topico, parecer):\n",
        "    explicador = Agent(\n",
        "        name=\"agente_explicador\",\n",
        "        model=\"gemini-2.5-pro-preview-03-25\",\n",
        "        instruction=\"\"\"\n",
        "        Você é um educador popular. Receberá uma análise técnica sobre um tema polêmico.\n",
        "        Sua missão: explicar essa análise de forma clara e acessível, como se estivesse explicando para alguém curioso, mas leigo.\n",
        "        Use analogias, exemplos, e um tom respeitoso e levemente irônico, se couber.\n",
        "        Evite jargões técnicos.\n",
        "        Finalize com uma dica de pensamento crítico ou leitura adicional.\n",
        "        Você diz o necessário e não se extende muito em suas explicações.\n",
        "        Você utiliza de formatações e elementos visuais para ajudar a legibilidade.\n",
        "        \"\"\",\n",
        "        description=\"Explica de forma acessível o parecer técnico.\"\n",
        "    )\n",
        "\n",
        "    entrada = f\"Tópico: {topico}\\nParecer técnico:\\n{parecer}\"\n",
        "    explicacao = call_agent(explicador, entrada)\n",
        "    return explicacao\n"
      ],
      "metadata": {
        "id": "FqGe347SrRVt"
      },
      "execution_count": 19,
      "outputs": []
    },
    {
      "cell_type": "code",
      "source": [
        "topico = input(\"❓ Digite a afirmação que você quer verificar (ex: 'A Terra é plana'): \")\n",
        "data_de_hoje = date.today().strftime(\"%d/%m/%Y\")\n",
        "\n",
        "if not topico:\n",
        "    print(\"Você esqueceu de digitar a afirmação.\")\n",
        "else:\n",
        "    print(f\"🔎 Verificando: {topico}\")\n",
        "\n",
        "    evidencias = agente_coletor_de_evidencias(topico, data_de_hoje)\n",
        "    #display(to_markdown(evidencias))\n",
        "\n",
        "    parecer = agente_avaliador_de_veracidade(topico, evidencias)\n",
        "    #display(to_markdown(parecer))\n",
        "\n",
        "    explicacao = agente_explicador(topico, parecer)\n",
        "    display(to_markdown(explicacao))\n"
      ],
      "metadata": {
        "colab": {
          "base_uri": "https://localhost:8080/",
          "height": 490
        },
        "id": "pVB5xPWfre3W",
        "outputId": "9b2db55c-1e7a-4609-ad73-18eb86372440"
      },
      "execution_count": 18,
      "outputs": [
        {
          "output_type": "stream",
          "name": "stdout",
          "text": [
            "❓ Digite a afirmação que você quer verificar (ex: 'A Terra é plana'): virginia joga no tigrinho\n",
            "🔎 Verificando: virginia joga no tigrinho\n"
          ]
        },
        {
          "output_type": "display_data",
          "data": {
            "text/plain": [
              "<IPython.core.display.Markdown object>"
            ],
            "text/markdown": "> ## Virginia e o Tigrinho: o que diz a análise? 🐅\n> \n> E aí, pessoal! 👀 Vamos desmistificar essa história da Virginia e o tal \"tigrinho\"?\n> \n> ### O que rolou? 🤔\n> \n> *   Aparentemente, a galera anda dizendo que a Virginia Fonseca \"joga no tigrinho\".\n> *   Mas será que é isso mesmo? 🤔\n> \n> ### O que a análise técnica diz? 🤓\n> \n> **Calma lá!** A análise foi clara: dizer que a Virginia \"joga no tigrinho\" é **IMPRECISO**.\n> \n> *   **Ela faz propaganda:** Sim, a Virginia fez publicidade para plataformas de apostas que oferecem o tal jogo do tigrinho.\n> *   **Ela joga?** Não há provas de que ela *realmente* jogue no tigrinho. As fontes dizem que ela joga na Mega-Sena, por exemplo.\n> *   **Ela lucra com a derrota dos outros?** Ela nega essa história e diz que sempre alertou sobre os riscos dos jogos.\n> \n> ### Em resumo: ✅ ou ❌?\n> \n> *   ✅ Ela divulga o jogo.\n> *   ❌ Não há provas de que ela joga.\n> \n> ### Moral da história 📖\n> \n> Antes de sair espalhando por aí que a Virginia é jogadora assídua do tigrinho, vale a pena conferir os fatos. 😉\n> \n> **Dica extra:** desconfie de tudo que você vê na internet e sempre busque informações em fontes confiáveis! 😉\n> \n"
          },
          "metadata": {}
        }
      ]
    }
  ]
}